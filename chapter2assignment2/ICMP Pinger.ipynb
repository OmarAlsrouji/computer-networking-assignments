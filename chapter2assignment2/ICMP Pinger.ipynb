{
 "cells": [
  {
   "cell_type": "markdown",
   "metadata": {},
   "source": [
    "# 1. ICMP Constraints and Checksum function\n",
    "\n",
    "ICMP_ECHO_REQUEST: This constant represents the ICMP Echo Request type, which is used in the ICMP header.\n",
    "\n",
    "checksum: This function calculates the checksum for the ICMP packet. It's a standard Internet checksum algorithm.\n",
    "\n"
   ]
  },
  {
   "cell_type": "code",
   "execution_count": null,
   "metadata": {},
   "outputs": [],
   "source": [
    "from socket import *\n",
    "import os\n",
    "import sys\n",
    "import struct\n",
    "import time\n",
    "import select\n",
    "import binascii"
   ]
  },
  {
   "cell_type": "code",
   "execution_count": null,
   "metadata": {},
   "outputs": [],
   "source": [
    "ICMP_ECHO_REQUEST = 8\n",
    "\n",
    "def checksum(string):\n",
    "    csum = 0\n",
    "    countTo = (len(string) // 2) * 2\n",
    "    count = 0\n",
    "    while count < countTo:\n",
    "        thisVal = ord(string[count+1]) * 256 + ord(string[count])\n",
    "        csum = csum + thisVal\n",
    "        csum = csum & 0xffffffff\n",
    "        count = count + 2\n",
    "    if countTo < len(string):\n",
    "        csum = csum + ord(string[len(string) - 1])\n",
    "        csum = csum & 0xffffffff\n",
    "    csum = (csum >> 16) + (csum & 0xffff)\n",
    "    csum = csum + (csum >> 16)  \n",
    "    answer = ~csum\n",
    "    answer = answer & 0xffff\n",
    "    answer = answer >> 8 | (answer << 8 & 0xff00)\n",
    "    return answer"
   ]
  },
  {
   "cell_type": "markdown",
   "metadata": {},
   "source": [
    "# 2. receiveOnePing Function\n",
    "\n",
    "This function handles receiving and parsing the ICMP response.\n",
    "It extracts the ICMP header from the received packet and unpacks it using struct.unpack to get relevant fields like type, code, checksum, packet ID, and sequence."
   ]
  },
  {
   "cell_type": "code",
   "execution_count": null,
   "metadata": {},
   "outputs": [],
   "source": [
    "def receiveOnePing(mySocket, ID, timeout, destAddr):\n",
    "    timeLeft = timeout\n",
    "\n",
    "    while 1:\n",
    "        startedSelect = time.time()\n",
    "        whatReady = select.select([mySocket], [], [], timeLeft)\n",
    "        howLongInSelect = (time.time() - startedSelect)\n",
    "\n",
    "        if whatReady[0] == []:  # Timeout\n",
    "            return \"Request timed out.\"\n",
    "\n",
    "        timeReceived = time.time()\n",
    "        recPacket, addr = mySocket.recvfrom(1024)\n",
    "\n",
    "        # Fill in start\n",
    "        # Fetch the ICMP header from the IP packet\n",
    "        icmpHeader = recPacket[20:28]\n",
    "        type, code, checksum, packetID, sequence = struct.unpack(\"bbHHh\", icmpHeader)\n",
    "        print (\"The header received in the ICMP reply is \",type, code, checksum, packetID, sequence)\n",
    "        if packetID == ID:\n",
    "            bytesinDbl = struct.calcsize(\"d\")\n",
    "            timeSent = struct.unpack(\"d\", recPacket[28:28 + bytesinDbl])[0]\n",
    "            rtt=timeReceived - timeSent\n",
    "   \n",
    "            print(\"RTT is : \") \n",
    "            return rtt\n",
    "        # Fill in end\n",
    "\n",
    "        timeLeft = timeLeft - howLongInSelect\n",
    "\n",
    "        if timeLeft <= 0:\n",
    "            return \"Request timed out.\"\n"
   ]
  },
  {
   "cell_type": "markdown",
   "metadata": {},
   "source": [
    "# 3. sendOnePing Function\n",
    "sendOnePing creates an ICMP packet (header + data) and calculates the checksum using the checksum function.\n",
    "It then packs the ICMP header with the correct checksum and sends the packet to the destination address."
   ]
  },
  {
   "cell_type": "code",
   "execution_count": null,
   "metadata": {},
   "outputs": [],
   "source": [
    "def sendOnePing(mySocket, destAddr, ID):\n",
    "    # Header is type (8), code (0), checksum (16), id (16), sequence (16)\n",
    "    myChecksum = 0\n",
    "    # Make a dummy header with a 0 checksum\n",
    "    # struct -- Interpret strings as packed binary data\n",
    "    header = struct.pack(\"bbHHh\", ICMP_ECHO_REQUEST, 0, myChecksum, ID, 1)\n",
    "    data = struct.pack(\"d\", time.time())\n",
    "    # Calculate the checksum on the data and the dummy header.\n",
    "    myChecksum = checksum(str(header + data))\n",
    "    # Get the right checksum, and put in the header\n",
    "    if sys.platform == 'darwin':\n",
    "        # Convert 16-bit integers from host to network byte order\n",
    "        myChecksum = htons(myChecksum) & 0xffff\n",
    "    else:\n",
    "        myChecksum = htons(myChecksum)\n",
    "    header = struct.pack(\"bbHHh\", ICMP_ECHO_REQUEST, 0, myChecksum, ID, 1)\n",
    "    packet = header + data\n",
    "    mySocket.sendto(packet, (destAddr, 1))  # AF_INET address must be tuple, not str\n"
   ]
  },
  {
   "cell_type": "markdown",
   "metadata": {},
   "source": [
    "# 4. doOnePing Function\n",
    "doOnePing is responsible for setting up the ICMP socket, sending a ping packet, receiving the response, and returning the delay."
   ]
  },
  {
   "cell_type": "code",
   "execution_count": null,
   "metadata": {},
   "outputs": [],
   "source": [
    "def doOnePing(destAddr, timeout):\n",
    "    icmp = getprotobyname(\"icmp\")\n",
    "    # SOCK_RAW is a powerful socket type. For more details: http://sockraw.org/papers/sock_raw\n",
    "    mySocket = socket(AF_INET, SOCK_RAW, icmp)\n",
    "    myID = os.getpid() & 0xFFFF  # Return the current process ID\n",
    "\n",
    "    sendOnePing(mySocket, destAddr, myID)\n",
    "    delay = receiveOnePing(mySocket, myID, timeout, destAddr)\n",
    "    mySocket.close()\n",
    "    return delay"
   ]
  },
  {
   "cell_type": "markdown",
   "metadata": {},
   "source": [
    "# 5. ping Function\n",
    "ping function resolves the host to an IP address using gethostbyname.\n",
    "It continuously sends pings and prints the delay between sending and receiving the response."
   ]
  },
  {
   "cell_type": "code",
   "execution_count": null,
   "metadata": {},
   "outputs": [],
   "source": [
    "def ping(host, timeout=1):\n",
    "    # timeout=1 means: If one second goes by without a reply from the server,\n",
    "    # the client assumes that either the client's ping or the server's pong is lost\n",
    "    dest = gethostbyname(host)\n",
    "    print(\"Pinging \" + dest + \" using Python:\")\n",
    "    print(\"\")\n",
    "    # Send ping requests to a server separated by approximately one second\n",
    "    while 1:\n",
    "        delay = doOnePing(dest, timeout)\n",
    "        print(delay)\n",
    "        time.sleep(1)  # one second\n",
    "    return delay\n",
    "\n",
    "# Test the code\n",
    "# ping(\"example.com\")\n"
   ]
  },
  {
   "cell_type": "markdown",
   "metadata": {},
   "source": [
    "The script runs indefinitely, uncomment the line to test the ping function with a specific host."
   ]
  }
 ],
 "metadata": {
  "language_info": {
   "name": "python"
  }
 },
 "nbformat": 4,
 "nbformat_minor": 2
}
